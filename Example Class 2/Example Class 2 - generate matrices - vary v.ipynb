{
 "cells": [
  {
   "cell_type": "markdown",
   "id": "3a567147",
   "metadata": {},
   "source": [
    "## Generate Adjacency Matrix"
   ]
  },
  {
   "cell_type": "code",
   "execution_count": 1,
   "id": "18f16676",
   "metadata": {},
   "outputs": [],
   "source": [
    "import random"
   ]
  },
  {
   "cell_type": "code",
   "execution_count": 2,
   "id": "15290c62",
   "metadata": {},
   "outputs": [],
   "source": [
    "def generate_directed_adjacency_matrix(V, E, weight_range=(1, 9)):\n",
    "    if V <= 0 or E < 0 or E > V * (V - 1):\n",
    "        raise ValueError(\"Invalid input values\")\n",
    "\n",
    "    # Initialize an empty adjacency matrix filled with zeros\n",
    "    adjacency_matrix = [[0] * V for _ in range(V)]\n",
    "\n",
    "    # Generate E random directed edges with random weights within the specified range\n",
    "    for _ in range(E):\n",
    "        while True:\n",
    "            u = random.randint(0, V - 1)\n",
    "            v = random.randint(0, V - 1)\n",
    "            if u != v and adjacency_matrix[u][v] == 0:\n",
    "                break\n",
    "        weight = random.randint(weight_range[0], weight_range[1])\n",
    "        adjacency_matrix[u][v] = weight\n",
    "\n",
    "    return adjacency_matrix"
   ]
  },
  {
   "cell_type": "markdown",
   "id": "6892b56d",
   "metadata": {},
   "source": [
    "Generate a list of **Adjacency Matrix** ranging the value of `|V|` and holding `|E|` constant"
   ]
  },
  {
   "cell_type": "code",
   "execution_count": 3,
   "id": "0802825c",
   "metadata": {},
   "outputs": [],
   "source": [
    "# Create an array of matrix with varying numbers of vertices (V)\n",
    "matrix_vary_V = []\n",
    "V_values = list(range(5, 50))\n",
    "constant_edges = 20  \n",
    "\n",
    "for V in V_values:  \n",
    "    adjacency_matrix = generate_directed_adjacency_matrix(V, constant_edges)\n",
    "    matrix_vary_V.append(adjacency_matrix)"
   ]
  },
  {
   "cell_type": "markdown",
   "id": "11ee6512",
   "metadata": {},
   "source": [
    "Save to json"
   ]
  },
  {
   "cell_type": "code",
   "execution_count": 5,
   "id": "6d6edfd1",
   "metadata": {},
   "outputs": [],
   "source": [
    "import json"
   ]
  },
  {
   "cell_type": "code",
   "execution_count": 6,
   "id": "76f76c9b",
   "metadata": {},
   "outputs": [],
   "source": [
    "# Save the list of matrices to a JSON file\n",
    "with open('matrices_v.json', 'w') as file:\n",
    "    json.dump(matrix_vary_V, file)"
   ]
  }
 ],
 "metadata": {
  "kernelspec": {
   "display_name": "Python 3 (ipykernel)",
   "language": "python",
   "name": "python3"
  },
  "language_info": {
   "codemirror_mode": {
    "name": "ipython",
    "version": 3
   },
   "file_extension": ".py",
   "mimetype": "text/x-python",
   "name": "python",
   "nbconvert_exporter": "python",
   "pygments_lexer": "ipython3",
   "version": "3.9.13"
  }
 },
 "nbformat": 4,
 "nbformat_minor": 5
}
