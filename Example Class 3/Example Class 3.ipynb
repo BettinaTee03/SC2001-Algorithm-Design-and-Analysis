{
 "cells": [
  {
   "cell_type": "code",
   "execution_count": 1,
   "id": "5ac864cf",
   "metadata": {},
   "outputs": [],
   "source": [
    "import pandas as pd"
   ]
  },
  {
   "cell_type": "markdown",
   "id": "f112c55f",
   "metadata": {},
   "source": [
    "# Knapsack Algorithm"
   ]
  },
  {
   "cell_type": "code",
   "execution_count": 2,
   "id": "0b2042fe",
   "metadata": {},
   "outputs": [],
   "source": [
    "def knapsack_max_profit(weights, profits, C):\n",
    "    n = len(weights)\n",
    "    dp = [[0] * (C + 1) for _ in range(n + 1)]\n",
    "\n",
    "    for i in range(n + 1):\n",
    "        for w in range(C + 1):\n",
    "            if i == 0 or w == 0:\n",
    "                dp[i][w] = 0\n",
    "            elif weights[i - 1] <= w:\n",
    "                dp[i][w] = max(dp[i - 1][w], dp[i][w - weights[i - 1]] + profits[i - 1])\n",
    "            else:\n",
    "                dp[i][w] = dp[i - 1][w]\n",
    "    \n",
    "    return dp[i][w]"
   ]
  },
  {
   "cell_type": "markdown",
   "id": "18000def",
   "metadata": {},
   "source": [
    "## Maximum Profits for Weights and Profits given in part 2"
   ]
  },
  {
   "cell_type": "code",
   "execution_count": 3,
   "id": "6e3b4708",
   "metadata": {},
   "outputs": [
    {
     "name": "stdout",
     "output_type": "stream",
     "text": [
      "Maximum profit for P(14) with weights [4, 6, 8] and profits [7, 6, 9]: 21\n"
     ]
    }
   ],
   "source": [
    "weights1 = [4, 6, 8]\n",
    "profits1 = [7, 6, 9]\n",
    "capacity1 = 14\n",
    "\n",
    "result1 = knapsack_max_profit(weights1, profits1, capacity1)\n",
    "print(\"Maximum profit for P(14) with weights [4, 6, 8] and profits [7, 6, 9]:\", result1)"
   ]
  },
  {
   "cell_type": "markdown",
   "id": "23dfab0f",
   "metadata": {},
   "source": [
    "## Maximum Profits for Weights and Profits given in part 4"
   ]
  },
  {
   "cell_type": "code",
   "execution_count": 4,
   "id": "6ef67b68",
   "metadata": {
    "scrolled": true
   },
   "outputs": [
    {
     "name": "stdout",
     "output_type": "stream",
     "text": [
      "Maximum profit for P(14) with weights [5, 6, 8] and profits [7, 6, 9]: 16\n"
     ]
    }
   ],
   "source": [
    "weights2 = [5, 6, 8]\n",
    "profits2 = [7, 6, 9]\n",
    "capacity2 = 14\n",
    "\n",
    "result2 = knapsack_max_profit(weights2, profits2, capacity2)\n",
    "print(\"Maximum profit for P(14) with weights [5, 6, 8] and profits [7, 6, 9]:\", result2)"
   ]
  },
  {
   "cell_type": "markdown",
   "id": "57c5d1c0",
   "metadata": {},
   "source": [
    "# Knapsack Algorithm to generate Knapsack table"
   ]
  },
  {
   "cell_type": "code",
   "execution_count": 5,
   "id": "b7c17847",
   "metadata": {},
   "outputs": [],
   "source": [
    "def knapsack_max_profit_table(weights, profits, C):\n",
    "    n = len(weights)\n",
    "    dp = [[0] * (C + 1) for _ in range(n + 1)]\n",
    "\n",
    "    for i in range(n + 1):\n",
    "        for w in range(C + 1):\n",
    "            if i == 0 or w == 0:\n",
    "                dp[i][w] = 0\n",
    "            elif weights[i - 1] <= w:\n",
    "                dp[i][w] = max(dp[i - 1][w], dp[i][w - weights[i - 1]] + profits[i - 1])\n",
    "            else:\n",
    "                dp[i][w] = dp[i - 1][w]\n",
    "                \n",
    "    dp_table = pd.DataFrame(dp, columns=range(C + 1), index=range(n + 1))\n",
    "    dp_table = dp_table.style.set_table_styles([{\n",
    "        'selector': 'td',\n",
    "        'props': [\n",
    "            ('padding', '10px')\n",
    "        ]\n",
    "    }])\n",
    "    \n",
    "    return dp[i][w], dp_table"
   ]
  },
  {
   "cell_type": "markdown",
   "id": "32e9d5b6",
   "metadata": {},
   "source": [
    "## Generated Knapsack table for Weights and Profits given in part 2"
   ]
  },
  {
   "cell_type": "code",
   "execution_count": 6,
   "id": "a1b8ef85",
   "metadata": {
    "scrolled": true
   },
   "outputs": [
    {
     "name": "stdout",
     "output_type": "stream",
     "text": [
      "Maximum profit for P(14) with weights [4, 6, 8] and profits [7, 6, 9]: 21\n"
     ]
    },
    {
     "data": {
      "text/html": [
       "<style type=\"text/css\">\n",
       "#T_063fe td {\n",
       "  padding: 10px;\n",
       "}\n",
       "</style>\n",
       "<table id=\"T_063fe\">\n",
       "  <thead>\n",
       "    <tr>\n",
       "      <th class=\"blank level0\" >&nbsp;</th>\n",
       "      <th id=\"T_063fe_level0_col0\" class=\"col_heading level0 col0\" >0</th>\n",
       "      <th id=\"T_063fe_level0_col1\" class=\"col_heading level0 col1\" >1</th>\n",
       "      <th id=\"T_063fe_level0_col2\" class=\"col_heading level0 col2\" >2</th>\n",
       "      <th id=\"T_063fe_level0_col3\" class=\"col_heading level0 col3\" >3</th>\n",
       "      <th id=\"T_063fe_level0_col4\" class=\"col_heading level0 col4\" >4</th>\n",
       "      <th id=\"T_063fe_level0_col5\" class=\"col_heading level0 col5\" >5</th>\n",
       "      <th id=\"T_063fe_level0_col6\" class=\"col_heading level0 col6\" >6</th>\n",
       "      <th id=\"T_063fe_level0_col7\" class=\"col_heading level0 col7\" >7</th>\n",
       "      <th id=\"T_063fe_level0_col8\" class=\"col_heading level0 col8\" >8</th>\n",
       "      <th id=\"T_063fe_level0_col9\" class=\"col_heading level0 col9\" >9</th>\n",
       "      <th id=\"T_063fe_level0_col10\" class=\"col_heading level0 col10\" >10</th>\n",
       "      <th id=\"T_063fe_level0_col11\" class=\"col_heading level0 col11\" >11</th>\n",
       "      <th id=\"T_063fe_level0_col12\" class=\"col_heading level0 col12\" >12</th>\n",
       "      <th id=\"T_063fe_level0_col13\" class=\"col_heading level0 col13\" >13</th>\n",
       "      <th id=\"T_063fe_level0_col14\" class=\"col_heading level0 col14\" >14</th>\n",
       "    </tr>\n",
       "  </thead>\n",
       "  <tbody>\n",
       "    <tr>\n",
       "      <th id=\"T_063fe_level0_row0\" class=\"row_heading level0 row0\" >0</th>\n",
       "      <td id=\"T_063fe_row0_col0\" class=\"data row0 col0\" >0</td>\n",
       "      <td id=\"T_063fe_row0_col1\" class=\"data row0 col1\" >0</td>\n",
       "      <td id=\"T_063fe_row0_col2\" class=\"data row0 col2\" >0</td>\n",
       "      <td id=\"T_063fe_row0_col3\" class=\"data row0 col3\" >0</td>\n",
       "      <td id=\"T_063fe_row0_col4\" class=\"data row0 col4\" >0</td>\n",
       "      <td id=\"T_063fe_row0_col5\" class=\"data row0 col5\" >0</td>\n",
       "      <td id=\"T_063fe_row0_col6\" class=\"data row0 col6\" >0</td>\n",
       "      <td id=\"T_063fe_row0_col7\" class=\"data row0 col7\" >0</td>\n",
       "      <td id=\"T_063fe_row0_col8\" class=\"data row0 col8\" >0</td>\n",
       "      <td id=\"T_063fe_row0_col9\" class=\"data row0 col9\" >0</td>\n",
       "      <td id=\"T_063fe_row0_col10\" class=\"data row0 col10\" >0</td>\n",
       "      <td id=\"T_063fe_row0_col11\" class=\"data row0 col11\" >0</td>\n",
       "      <td id=\"T_063fe_row0_col12\" class=\"data row0 col12\" >0</td>\n",
       "      <td id=\"T_063fe_row0_col13\" class=\"data row0 col13\" >0</td>\n",
       "      <td id=\"T_063fe_row0_col14\" class=\"data row0 col14\" >0</td>\n",
       "    </tr>\n",
       "    <tr>\n",
       "      <th id=\"T_063fe_level0_row1\" class=\"row_heading level0 row1\" >1</th>\n",
       "      <td id=\"T_063fe_row1_col0\" class=\"data row1 col0\" >0</td>\n",
       "      <td id=\"T_063fe_row1_col1\" class=\"data row1 col1\" >0</td>\n",
       "      <td id=\"T_063fe_row1_col2\" class=\"data row1 col2\" >0</td>\n",
       "      <td id=\"T_063fe_row1_col3\" class=\"data row1 col3\" >0</td>\n",
       "      <td id=\"T_063fe_row1_col4\" class=\"data row1 col4\" >7</td>\n",
       "      <td id=\"T_063fe_row1_col5\" class=\"data row1 col5\" >7</td>\n",
       "      <td id=\"T_063fe_row1_col6\" class=\"data row1 col6\" >7</td>\n",
       "      <td id=\"T_063fe_row1_col7\" class=\"data row1 col7\" >7</td>\n",
       "      <td id=\"T_063fe_row1_col8\" class=\"data row1 col8\" >14</td>\n",
       "      <td id=\"T_063fe_row1_col9\" class=\"data row1 col9\" >14</td>\n",
       "      <td id=\"T_063fe_row1_col10\" class=\"data row1 col10\" >14</td>\n",
       "      <td id=\"T_063fe_row1_col11\" class=\"data row1 col11\" >14</td>\n",
       "      <td id=\"T_063fe_row1_col12\" class=\"data row1 col12\" >21</td>\n",
       "      <td id=\"T_063fe_row1_col13\" class=\"data row1 col13\" >21</td>\n",
       "      <td id=\"T_063fe_row1_col14\" class=\"data row1 col14\" >21</td>\n",
       "    </tr>\n",
       "    <tr>\n",
       "      <th id=\"T_063fe_level0_row2\" class=\"row_heading level0 row2\" >2</th>\n",
       "      <td id=\"T_063fe_row2_col0\" class=\"data row2 col0\" >0</td>\n",
       "      <td id=\"T_063fe_row2_col1\" class=\"data row2 col1\" >0</td>\n",
       "      <td id=\"T_063fe_row2_col2\" class=\"data row2 col2\" >0</td>\n",
       "      <td id=\"T_063fe_row2_col3\" class=\"data row2 col3\" >0</td>\n",
       "      <td id=\"T_063fe_row2_col4\" class=\"data row2 col4\" >7</td>\n",
       "      <td id=\"T_063fe_row2_col5\" class=\"data row2 col5\" >7</td>\n",
       "      <td id=\"T_063fe_row2_col6\" class=\"data row2 col6\" >7</td>\n",
       "      <td id=\"T_063fe_row2_col7\" class=\"data row2 col7\" >7</td>\n",
       "      <td id=\"T_063fe_row2_col8\" class=\"data row2 col8\" >14</td>\n",
       "      <td id=\"T_063fe_row2_col9\" class=\"data row2 col9\" >14</td>\n",
       "      <td id=\"T_063fe_row2_col10\" class=\"data row2 col10\" >14</td>\n",
       "      <td id=\"T_063fe_row2_col11\" class=\"data row2 col11\" >14</td>\n",
       "      <td id=\"T_063fe_row2_col12\" class=\"data row2 col12\" >21</td>\n",
       "      <td id=\"T_063fe_row2_col13\" class=\"data row2 col13\" >21</td>\n",
       "      <td id=\"T_063fe_row2_col14\" class=\"data row2 col14\" >21</td>\n",
       "    </tr>\n",
       "    <tr>\n",
       "      <th id=\"T_063fe_level0_row3\" class=\"row_heading level0 row3\" >3</th>\n",
       "      <td id=\"T_063fe_row3_col0\" class=\"data row3 col0\" >0</td>\n",
       "      <td id=\"T_063fe_row3_col1\" class=\"data row3 col1\" >0</td>\n",
       "      <td id=\"T_063fe_row3_col2\" class=\"data row3 col2\" >0</td>\n",
       "      <td id=\"T_063fe_row3_col3\" class=\"data row3 col3\" >0</td>\n",
       "      <td id=\"T_063fe_row3_col4\" class=\"data row3 col4\" >7</td>\n",
       "      <td id=\"T_063fe_row3_col5\" class=\"data row3 col5\" >7</td>\n",
       "      <td id=\"T_063fe_row3_col6\" class=\"data row3 col6\" >7</td>\n",
       "      <td id=\"T_063fe_row3_col7\" class=\"data row3 col7\" >7</td>\n",
       "      <td id=\"T_063fe_row3_col8\" class=\"data row3 col8\" >14</td>\n",
       "      <td id=\"T_063fe_row3_col9\" class=\"data row3 col9\" >14</td>\n",
       "      <td id=\"T_063fe_row3_col10\" class=\"data row3 col10\" >14</td>\n",
       "      <td id=\"T_063fe_row3_col11\" class=\"data row3 col11\" >14</td>\n",
       "      <td id=\"T_063fe_row3_col12\" class=\"data row3 col12\" >21</td>\n",
       "      <td id=\"T_063fe_row3_col13\" class=\"data row3 col13\" >21</td>\n",
       "      <td id=\"T_063fe_row3_col14\" class=\"data row3 col14\" >21</td>\n",
       "    </tr>\n",
       "  </tbody>\n",
       "</table>\n"
      ],
      "text/plain": [
       "<pandas.io.formats.style.Styler at 0x17234569430>"
      ]
     },
     "execution_count": 6,
     "metadata": {},
     "output_type": "execute_result"
    }
   ],
   "source": [
    "result1, table1 = knapsack_max_profit_table(weights1, profits1, capacity1)\n",
    "print(\"Maximum profit for P(14) with weights [4, 6, 8] and profits [7, 6, 9]:\", result1)\n",
    "table1"
   ]
  },
  {
   "cell_type": "markdown",
   "id": "c919c121",
   "metadata": {},
   "source": [
    "## Generated Knapsack table for Weights and Profits given in part 4"
   ]
  },
  {
   "cell_type": "code",
   "execution_count": 7,
   "id": "03754fc1",
   "metadata": {},
   "outputs": [
    {
     "name": "stdout",
     "output_type": "stream",
     "text": [
      "Maximum profit for P(14) with weights [5, 6, 8] and profits [7, 6, 9]: 16\n"
     ]
    },
    {
     "data": {
      "text/html": [
       "<style type=\"text/css\">\n",
       "#T_2b13a td {\n",
       "  padding: 10px;\n",
       "}\n",
       "</style>\n",
       "<table id=\"T_2b13a\">\n",
       "  <thead>\n",
       "    <tr>\n",
       "      <th class=\"blank level0\" >&nbsp;</th>\n",
       "      <th id=\"T_2b13a_level0_col0\" class=\"col_heading level0 col0\" >0</th>\n",
       "      <th id=\"T_2b13a_level0_col1\" class=\"col_heading level0 col1\" >1</th>\n",
       "      <th id=\"T_2b13a_level0_col2\" class=\"col_heading level0 col2\" >2</th>\n",
       "      <th id=\"T_2b13a_level0_col3\" class=\"col_heading level0 col3\" >3</th>\n",
       "      <th id=\"T_2b13a_level0_col4\" class=\"col_heading level0 col4\" >4</th>\n",
       "      <th id=\"T_2b13a_level0_col5\" class=\"col_heading level0 col5\" >5</th>\n",
       "      <th id=\"T_2b13a_level0_col6\" class=\"col_heading level0 col6\" >6</th>\n",
       "      <th id=\"T_2b13a_level0_col7\" class=\"col_heading level0 col7\" >7</th>\n",
       "      <th id=\"T_2b13a_level0_col8\" class=\"col_heading level0 col8\" >8</th>\n",
       "      <th id=\"T_2b13a_level0_col9\" class=\"col_heading level0 col9\" >9</th>\n",
       "      <th id=\"T_2b13a_level0_col10\" class=\"col_heading level0 col10\" >10</th>\n",
       "      <th id=\"T_2b13a_level0_col11\" class=\"col_heading level0 col11\" >11</th>\n",
       "      <th id=\"T_2b13a_level0_col12\" class=\"col_heading level0 col12\" >12</th>\n",
       "      <th id=\"T_2b13a_level0_col13\" class=\"col_heading level0 col13\" >13</th>\n",
       "      <th id=\"T_2b13a_level0_col14\" class=\"col_heading level0 col14\" >14</th>\n",
       "    </tr>\n",
       "  </thead>\n",
       "  <tbody>\n",
       "    <tr>\n",
       "      <th id=\"T_2b13a_level0_row0\" class=\"row_heading level0 row0\" >0</th>\n",
       "      <td id=\"T_2b13a_row0_col0\" class=\"data row0 col0\" >0</td>\n",
       "      <td id=\"T_2b13a_row0_col1\" class=\"data row0 col1\" >0</td>\n",
       "      <td id=\"T_2b13a_row0_col2\" class=\"data row0 col2\" >0</td>\n",
       "      <td id=\"T_2b13a_row0_col3\" class=\"data row0 col3\" >0</td>\n",
       "      <td id=\"T_2b13a_row0_col4\" class=\"data row0 col4\" >0</td>\n",
       "      <td id=\"T_2b13a_row0_col5\" class=\"data row0 col5\" >0</td>\n",
       "      <td id=\"T_2b13a_row0_col6\" class=\"data row0 col6\" >0</td>\n",
       "      <td id=\"T_2b13a_row0_col7\" class=\"data row0 col7\" >0</td>\n",
       "      <td id=\"T_2b13a_row0_col8\" class=\"data row0 col8\" >0</td>\n",
       "      <td id=\"T_2b13a_row0_col9\" class=\"data row0 col9\" >0</td>\n",
       "      <td id=\"T_2b13a_row0_col10\" class=\"data row0 col10\" >0</td>\n",
       "      <td id=\"T_2b13a_row0_col11\" class=\"data row0 col11\" >0</td>\n",
       "      <td id=\"T_2b13a_row0_col12\" class=\"data row0 col12\" >0</td>\n",
       "      <td id=\"T_2b13a_row0_col13\" class=\"data row0 col13\" >0</td>\n",
       "      <td id=\"T_2b13a_row0_col14\" class=\"data row0 col14\" >0</td>\n",
       "    </tr>\n",
       "    <tr>\n",
       "      <th id=\"T_2b13a_level0_row1\" class=\"row_heading level0 row1\" >1</th>\n",
       "      <td id=\"T_2b13a_row1_col0\" class=\"data row1 col0\" >0</td>\n",
       "      <td id=\"T_2b13a_row1_col1\" class=\"data row1 col1\" >0</td>\n",
       "      <td id=\"T_2b13a_row1_col2\" class=\"data row1 col2\" >0</td>\n",
       "      <td id=\"T_2b13a_row1_col3\" class=\"data row1 col3\" >0</td>\n",
       "      <td id=\"T_2b13a_row1_col4\" class=\"data row1 col4\" >0</td>\n",
       "      <td id=\"T_2b13a_row1_col5\" class=\"data row1 col5\" >7</td>\n",
       "      <td id=\"T_2b13a_row1_col6\" class=\"data row1 col6\" >7</td>\n",
       "      <td id=\"T_2b13a_row1_col7\" class=\"data row1 col7\" >7</td>\n",
       "      <td id=\"T_2b13a_row1_col8\" class=\"data row1 col8\" >7</td>\n",
       "      <td id=\"T_2b13a_row1_col9\" class=\"data row1 col9\" >7</td>\n",
       "      <td id=\"T_2b13a_row1_col10\" class=\"data row1 col10\" >14</td>\n",
       "      <td id=\"T_2b13a_row1_col11\" class=\"data row1 col11\" >14</td>\n",
       "      <td id=\"T_2b13a_row1_col12\" class=\"data row1 col12\" >14</td>\n",
       "      <td id=\"T_2b13a_row1_col13\" class=\"data row1 col13\" >14</td>\n",
       "      <td id=\"T_2b13a_row1_col14\" class=\"data row1 col14\" >14</td>\n",
       "    </tr>\n",
       "    <tr>\n",
       "      <th id=\"T_2b13a_level0_row2\" class=\"row_heading level0 row2\" >2</th>\n",
       "      <td id=\"T_2b13a_row2_col0\" class=\"data row2 col0\" >0</td>\n",
       "      <td id=\"T_2b13a_row2_col1\" class=\"data row2 col1\" >0</td>\n",
       "      <td id=\"T_2b13a_row2_col2\" class=\"data row2 col2\" >0</td>\n",
       "      <td id=\"T_2b13a_row2_col3\" class=\"data row2 col3\" >0</td>\n",
       "      <td id=\"T_2b13a_row2_col4\" class=\"data row2 col4\" >0</td>\n",
       "      <td id=\"T_2b13a_row2_col5\" class=\"data row2 col5\" >7</td>\n",
       "      <td id=\"T_2b13a_row2_col6\" class=\"data row2 col6\" >7</td>\n",
       "      <td id=\"T_2b13a_row2_col7\" class=\"data row2 col7\" >7</td>\n",
       "      <td id=\"T_2b13a_row2_col8\" class=\"data row2 col8\" >7</td>\n",
       "      <td id=\"T_2b13a_row2_col9\" class=\"data row2 col9\" >7</td>\n",
       "      <td id=\"T_2b13a_row2_col10\" class=\"data row2 col10\" >14</td>\n",
       "      <td id=\"T_2b13a_row2_col11\" class=\"data row2 col11\" >14</td>\n",
       "      <td id=\"T_2b13a_row2_col12\" class=\"data row2 col12\" >14</td>\n",
       "      <td id=\"T_2b13a_row2_col13\" class=\"data row2 col13\" >14</td>\n",
       "      <td id=\"T_2b13a_row2_col14\" class=\"data row2 col14\" >14</td>\n",
       "    </tr>\n",
       "    <tr>\n",
       "      <th id=\"T_2b13a_level0_row3\" class=\"row_heading level0 row3\" >3</th>\n",
       "      <td id=\"T_2b13a_row3_col0\" class=\"data row3 col0\" >0</td>\n",
       "      <td id=\"T_2b13a_row3_col1\" class=\"data row3 col1\" >0</td>\n",
       "      <td id=\"T_2b13a_row3_col2\" class=\"data row3 col2\" >0</td>\n",
       "      <td id=\"T_2b13a_row3_col3\" class=\"data row3 col3\" >0</td>\n",
       "      <td id=\"T_2b13a_row3_col4\" class=\"data row3 col4\" >0</td>\n",
       "      <td id=\"T_2b13a_row3_col5\" class=\"data row3 col5\" >7</td>\n",
       "      <td id=\"T_2b13a_row3_col6\" class=\"data row3 col6\" >7</td>\n",
       "      <td id=\"T_2b13a_row3_col7\" class=\"data row3 col7\" >7</td>\n",
       "      <td id=\"T_2b13a_row3_col8\" class=\"data row3 col8\" >9</td>\n",
       "      <td id=\"T_2b13a_row3_col9\" class=\"data row3 col9\" >9</td>\n",
       "      <td id=\"T_2b13a_row3_col10\" class=\"data row3 col10\" >14</td>\n",
       "      <td id=\"T_2b13a_row3_col11\" class=\"data row3 col11\" >14</td>\n",
       "      <td id=\"T_2b13a_row3_col12\" class=\"data row3 col12\" >14</td>\n",
       "      <td id=\"T_2b13a_row3_col13\" class=\"data row3 col13\" >16</td>\n",
       "      <td id=\"T_2b13a_row3_col14\" class=\"data row3 col14\" >16</td>\n",
       "    </tr>\n",
       "  </tbody>\n",
       "</table>\n"
      ],
      "text/plain": [
       "<pandas.io.formats.style.Styler at 0x172353e5190>"
      ]
     },
     "execution_count": 7,
     "metadata": {},
     "output_type": "execute_result"
    }
   ],
   "source": [
    "result2, table2 = knapsack_max_profit_table(weights2, profits2, capacity2)\n",
    "print(\"Maximum profit for P(14) with weights [5, 6, 8] and profits [7, 6, 9]:\", result2)\n",
    "table2"
   ]
  }
 ],
 "metadata": {
  "kernelspec": {
   "display_name": "Python 3 (ipykernel)",
   "language": "python",
   "name": "python3"
  },
  "language_info": {
   "codemirror_mode": {
    "name": "ipython",
    "version": 3
   },
   "file_extension": ".py",
   "mimetype": "text/x-python",
   "name": "python",
   "nbconvert_exporter": "python",
   "pygments_lexer": "ipython3",
   "version": "3.9.13"
  }
 },
 "nbformat": 4,
 "nbformat_minor": 5
}
